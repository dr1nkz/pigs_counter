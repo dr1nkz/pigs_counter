{
 "cells": [
  {
   "cell_type": "markdown",
   "metadata": {},
   "source": [
    "##### Разбивка на кадры\n",
    "##### Cтруктура:<br>\n",
    "directory <br>\n",
    "&nbsp;&nbsp;&nbsp;&nbsp;|_ videos <- тута видевы клипов <br>\n",
    "&nbsp;&nbsp;&nbsp;&nbsp;|_ frames <- тута будут фреймы (создать папку предварительно)"
   ]
  },
  {
   "cell_type": "code",
   "execution_count": null,
   "metadata": {},
   "outputs": [],
   "source": [
    "import cv2\n",
    "\n",
    "directory = '/home/pc/Downloads/clips_october'\n",
    "\n",
    "def stream(id, filename):\n",
    "    address = f'{directory}/videos/{filename}'\n",
    "    cv2.namedWindow('stream', cv2.WINDOW_NORMAL)\n",
    "    cap = cv2.VideoCapture(address)\n",
    "    # fourcc = cv2.VideoWriter_fourcc(*'mp4v')\n",
    "    # width = int(cap.get(cv2.CAP_PROP_FRAME_WIDTH))\n",
    "    # height = int(cap.get(cv2.CAP_PROP_FRAME_HEIGHT))\n",
    "    # fps = int(cap.get(cv2.CAP_PROP_FPS))\n",
    "    counter = 0\n",
    "    while cap.isOpened():\n",
    "        # Кадр с камеры\n",
    "        ret, frame = cap.read()\n",
    "        if not ret:\n",
    "            break\n",
    "        frame_directory = f'{directory}/frames/'\n",
    "        if counter % 20 == 0:\n",
    "            cv2.imwrite(f'{frame_directory}#{id}frame{counter}.png', frame)\n",
    "        cv2.imshow('stream', frame)\n",
    "        if cv2.waitKey(1) & 0xFF == ord('q'):\n",
    "            cv2.destroyAllWindows()\n",
    "            cap.release()\n",
    "            return\n",
    "        counter += 1\n",
    "        \n",
    "            \n",
    "\n",
    "    cv2.destroyAllWindows()\n",
    "    cap.release()\n",
    "\n",
    "\n",
    "videos = !ls {directory}/videos\n",
    "for id, filename in enumerate(videos):\n",
    "    stream(id, filename)\n",
    "# stream(r'http://@192.168.0.39:8080/video')"
   ]
  },
  {
   "cell_type": "markdown",
   "metadata": {},
   "source": [
    "##### Всякий хлам"
   ]
  },
  {
   "cell_type": "code",
   "execution_count": null,
   "metadata": {},
   "outputs": [
    {
     "data": {
      "text/plain": [
       "268"
      ]
     },
     "metadata": {},
     "output_type": "display_data"
    }
   ],
   "source": [
    "import os\n",
    "\n",
    "directory = '/home/pc/Downloads/dataset_from_clips_v2_new'\n",
    "labels = !ls {directory}/labels\n",
    "counter = 0\n",
    "for label in labels:\n",
    "    image = f'{directory}/images/{label.split(\".\")[0]}.png'\n",
    "    if not os.path.exists(image):\n",
    "        counter += 1\n",
    "        os.remove(f'{directory}/labels/{label}')\n",
    "counter"
   ]
  },
  {
   "cell_type": "code",
   "execution_count": null,
   "metadata": {},
   "outputs": [],
   "source": [
    "import os\n",
    "\n",
    "directory = '/home/pc/Downloads/project-21'\n",
    "images = !ls {directory}/images\n",
    "print(images)\n",
    "counter = 0\n",
    "for image in images:\n",
    "    label = f'{directory}/labels/{image.split(\".\")[0]}.txt'\n",
    "    if not os.path.exists(label):\n",
    "        counter += 1\n",
    "        os.remove(f'{directory}/images/{image}')\n",
    "counter"
   ]
  },
  {
   "cell_type": "code",
   "execution_count": null,
   "metadata": {},
   "outputs": [
    {
     "data": {
      "text/plain": [
       "220"
      ]
     },
     "metadata": {},
     "output_type": "display_data"
    }
   ],
   "source": [
    "import os\n",
    "import cv2\n",
    "\n",
    "directory = '/home/pc/Downloads/dataset_october/valid/images'\n",
    "os.chdir(directory)\n",
    "\n",
    "images = !ls \n",
    "counter = 0\n",
    "for image in images:\n",
    "    img = cv2.imread(image)\n",
    "    img_gray = cv2.cvtColor(img, cv2.COLOR_BGR2GRAY)\n",
    "    cv2.imwrite(image, img_gray)\n",
    "    counter += 1\n",
    "counter"
   ]
  },
  {
   "cell_type": "code",
   "execution_count": 1,
   "metadata": {},
   "outputs": [
    {
     "ename": "NameError",
     "evalue": "name 'os' is not defined",
     "output_type": "error",
     "traceback": [
      "\u001b[0;31m---------------------------------------------------------------------------\u001b[0m",
      "\u001b[0;31mNameError\u001b[0m                                 Traceback (most recent call last)",
      "Cell \u001b[0;32mIn[1], line 1\u001b[0m\n\u001b[0;32m----> 1\u001b[0m \u001b[43mos\u001b[49m\u001b[38;5;241m.\u001b[39mgetcwd()\n",
      "\u001b[0;31mNameError\u001b[0m: name 'os' is not defined"
     ]
    }
   ],
   "source": [
    "os.getcwd()"
   ]
  },
  {
   "cell_type": "markdown",
   "metadata": {},
   "source": [
    "##### Разбиение на train / test / valid"
   ]
  },
  {
   "cell_type": "code",
   "execution_count": 11,
   "metadata": {},
   "outputs": [
    {
     "data": {
      "text/plain": [
       "801"
      ]
     },
     "execution_count": 11,
     "metadata": {},
     "output_type": "execute_result"
    }
   ],
   "source": [
    "import os\n",
    "\n",
    "directory = '/home/pc/Downloads/11111/addition'\n",
    "train = f'{directory}/train'\n",
    "valid = f'{directory}/valid'\n",
    "test = f'{directory}/test'\n",
    "\n",
    "counter = 0\n",
    "images = !ls {train}/images\n",
    "labels = !ls {train}/labels\n",
    "for image, label in zip(images, labels):\n",
    "    if counter % 5 == 0:\n",
    "        # print(f'{valid}/images/{image}', '\\n')\n",
    "        os.replace(f'{train}/images/{image}', f'{valid}/images/{image}')\n",
    "        os.replace(f'{train}/labels/{label}', f'{valid}/labels/{label}')\n",
    "    if (counter - 1) % 10 == 0:\n",
    "        # print(f'{test}/images/{image}', '\\n')\n",
    "        os.replace(f'{train}/images/{image}', f'{test}/images/{image}')\n",
    "        os.replace(f'{train}/labels/{label}', f'{test}/labels/{label}')\n",
    "    \n",
    "    counter += 1\n",
    "counter"
   ]
  },
  {
   "cell_type": "markdown",
   "metadata": {},
   "source": [
    "##### Загрузка датасета"
   ]
  },
  {
   "cell_type": "code",
   "execution_count": null,
   "metadata": {},
   "outputs": [],
   "source": [
    "import kagglehub\n",
    "# Download latest version\n",
    "path = kagglehub.dataset_download(\"vladkemaev/datasetpig?dataset_version_number=4\")\n",
    "print(\"Path to dataset files:\", path)"
   ]
  },
  {
   "cell_type": "markdown",
   "metadata": {},
   "source": [
    "##### Выгрузка датасета"
   ]
  },
  {
   "cell_type": "code",
   "execution_count": null,
   "metadata": {},
   "outputs": [],
   "source": [
    "import kagglehub\n",
    "\n",
    "# Download latest version\n",
    "# path = kagglehub.dataset_download(\"dmitriymaslyaev/forklift-dataset-from-clips-v2\")\n",
    "kagglehub.dataset_upload('dmitriymaslyaev/dataset_november', '/home/pc/Downloads/datasets/dataset_november.zip')"
   ]
  }
 ],
 "metadata": {
  "kernelspec": {
   "display_name": "Python 3",
   "language": "python",
   "name": "python3"
  },
  "language_info": {
   "codemirror_mode": {
    "name": "ipython",
    "version": 3
   },
   "file_extension": ".py",
   "mimetype": "text/x-python",
   "name": "python",
   "nbconvert_exporter": "python",
   "pygments_lexer": "ipython3",
   "version": "3.10.12"
  }
 },
 "nbformat": 4,
 "nbformat_minor": 2
}
